{
 "cells": [
  {
   "cell_type": "markdown",
   "metadata": {},
   "source": [
    "## Time Series Analysis of Precipitation and Soil Mositure"
   ]
  },
  {
   "cell_type": "code",
   "execution_count": 1,
   "metadata": {},
   "outputs": [],
   "source": [
    "import bqplot\n",
    "import datetime\n",
    "import dateutil.parser\n",
    "import ee\n",
    "import ipywidgets\n",
    "import IPython.display\n",
    "import numpy as np\n",
    "import pprint\n",
    "import pandas as pd\n",
    "import traitlets\n",
    "import ipyleaflet\n",
    "from matplotlib.pyplot import *\n",
    "\n",
    "# Configure the pretty printing output.\n",
    "pp = pprint.PrettyPrinter(depth=4)"
   ]
  },
  {
   "cell_type": "code",
   "execution_count": 2,
   "metadata": {},
   "outputs": [],
   "source": [
    "# Authenticate to the Earth Engine servers, and initialize the ee module.\n",
    "ee.Initialize()"
   ]
  },
  {
   "cell_type": "markdown",
   "metadata": {},
   "source": [
    "## Load and display GPM Data"
   ]
  },
  {
   "cell_type": "code",
   "execution_count": 3,
   "metadata": {},
   "outputs": [],
   "source": [
    "gpm_collection = ee.ImageCollection(\"NASA/GPM_L3/IMERG_V05\")"
   ]
  },
  {
   "cell_type": "code",
   "execution_count": 4,
   "metadata": {},
   "outputs": [
    {
     "name": "stdout",
     "output_type": "stream",
     "text": [
      "86584\n"
     ]
    }
   ],
   "source": [
    "print(gpm_collection.size().getInfo())"
   ]
  },
  {
   "cell_type": "code",
   "execution_count": 5,
   "metadata": {},
   "outputs": [
    {
     "name": "stdout",
     "output_type": "stream",
     "text": [
      "17472\n"
     ]
    }
   ],
   "source": [
    "# filter gpm collection\n",
    "gpm_collection_18 = gpm_collection.filterDate('2018-01-01', '2018-12-31')\n",
    "print(gpm_collection_18.size().getInfo())"
   ]
  },
  {
   "cell_type": "code",
   "execution_count": 6,
   "metadata": {},
   "outputs": [],
   "source": [
    "# sample gpm image analysis\n",
    "gpm_image = ee.Image(gpm_collection_18\n",
    "         #.filterBounds(india_region.geometry())\n",
    "         .first()\n",
    "        )"
   ]
  },
  {
   "cell_type": "code",
   "execution_count": 7,
   "metadata": {},
   "outputs": [
    {
     "name": "stdout",
     "output_type": "stream",
     "text": [
      "Band names:  ['HQobservationTime', 'HQprecipSource', 'HQprecipitation', 'IRkalmanFilterWeight', 'IRprecipitation', 'precipitationCal', 'precipitationUncal', 'probabilityLiquidPrecipitation', 'randomError']\n",
      "Metadata properties:  ['system:time_start', 'system:footprint', 'system:time_end', 'system:version', 'system:id', 'system:asset_size', 'status', 'system:index', 'system:bands', 'system:band_names']\n",
      "CLOUD_COVER:  None\n",
      "Timestamp:  {'type': 'Date', 'value': 1514764800000}\n",
      "{'type': 'Polygon', 'coordinates': [[[-180.0, -90.0], [180.0, -90.0], [180.0, 90.0], [-180.0, 90.0], [-180.0, -90.0]]]}\n"
     ]
    }
   ],
   "source": [
    "# Get information about the bands as a list.\n",
    "bandNames = gpm_image.bandNames();\n",
    "print('Band names: ', bandNames.getInfo()); \n",
    "\n",
    "#Get a list of all metadata properties.\n",
    "properties = gpm_image.propertyNames();\n",
    "print('Metadata properties: ', properties.getInfo()); \n",
    "\n",
    "#Get a specific metadata property.\n",
    "cloudiness = gpm_image.get('CLOUD_COVER');\n",
    "print('CLOUD_COVER: ', cloudiness.getInfo()); \n",
    "\n",
    "#Get the timestamp and convert it to a date.\n",
    "date = ee.Date(gpm_image.get('system:time_start'));\n",
    "print('Timestamp: ', date.getInfo()); \n",
    " \n",
    "# Get dimensions of imagees\n",
    "print (gpm_image.geometry().bounds().getInfo());\n",
    "\n",
    "#pp.pprint(gpm_image.getInfo())"
   ]
  },
  {
   "cell_type": "code",
   "execution_count": 9,
   "metadata": {},
   "outputs": [
    {
     "data": {
      "text/html": [
       "<img src=\"https://earthengine.googleapis.com/api/thumb?thumbid=8ab863c991e3dff8044a578d330f2992&token=451df4e219ab61949acbae8672192bc5\"/>"
      ],
      "text/plain": [
       "<IPython.core.display.Image object>"
      ]
     },
     "execution_count": 9,
     "metadata": {},
     "output_type": "execute_result"
    }
   ],
   "source": [
    "gpm_thumbnail_url = gpm_image.getThumbUrl({\n",
    "    'bands': 'precipitationCal',\n",
    "    'min': 1.0,\n",
    "    'max': 9.0,\n",
    "    #'region': gpm_image.geometry().bounds().getInfo()\n",
    "})\n",
    "IPython.display.HTML('Thumbnail URL: <a href={0}>{0}</a>'.format(gpm_thumbnail_url))\n",
    "IPython.display.Image(url=gpm_thumbnail_url)"
   ]
  },
  {
   "cell_type": "code",
   "execution_count": 10,
   "metadata": {
    "scrolled": true
   },
   "outputs": [
    {
     "data": {
      "application/vnd.jupyter.widget-view+json": {
       "model_id": "bc5064ce034f40d89b34c08d14f65a8c",
       "version_major": 2,
       "version_minor": 0
      },
      "text/plain": [
       "Map(basemap={'url': 'https://{s}.tile.openstreetmap.org/{z}/{x}/{y}.png', 'max_zoom': 19, 'attribution': 'Map …"
      ]
     },
     "metadata": {},
     "output_type": "display_data"
    }
   ],
   "source": [
    "gpm_map = ipyleaflet.Map(zoom=3, layout={'height':'400px'})\n",
    "gpm_map"
   ]
  },
  {
   "cell_type": "code",
   "execution_count": 11,
   "metadata": {},
   "outputs": [],
   "source": [
    "def GetTileLayerUrl(ee_image_object):\n",
    "  map_id = ee.Image(ee_image_object).getMapId()\n",
    "  tile_url_template = \"https://earthengine.googleapis.com/map/{mapid}/{{z}}/{{x}}/{{y}}?token={token}\"\n",
    "  return tile_url_template.format(**map_id)"
   ]
  },
  {
   "cell_type": "code",
   "execution_count": 12,
   "metadata": {},
   "outputs": [],
   "source": [
    "# overaly image on map\n",
    "tile_url = GetTileLayerUrl(gpm_image.visualize(min=1.0, max=9.0, gamma=1.5, bands= ['precipitationCal']))\n",
    "gpm_map.add_layer(ipyleaflet.TileLayer(url=tile_url))"
   ]
  },
  {
   "cell_type": "markdown",
   "metadata": {},
   "source": [
    "## Load and display Soil Moisture Data"
   ]
  },
  {
   "cell_type": "code",
   "execution_count": 13,
   "metadata": {},
   "outputs": [],
   "source": [
    "soil_moist_collection = ee.ImageCollection('NASA_USDA/HSL/SMAP_soil_moisture')"
   ]
  },
  {
   "cell_type": "code",
   "execution_count": 14,
   "metadata": {},
   "outputs": [
    {
     "name": "stdout",
     "output_type": "stream",
     "text": [
      "471\n"
     ]
    }
   ],
   "source": [
    "print(soil_moist_collection.size().getInfo())"
   ]
  },
  {
   "cell_type": "code",
   "execution_count": 15,
   "metadata": {},
   "outputs": [
    {
     "name": "stdout",
     "output_type": "stream",
     "text": [
      "122\n"
     ]
    }
   ],
   "source": [
    "# filter soil moisture collection\n",
    "soil_moist_collection_18 = soil_moist_collection.filterDate('2018-01-01', '2018-12-31')\n",
    "print(soil_moist_collection_18.size().getInfo())"
   ]
  },
  {
   "cell_type": "code",
   "execution_count": 16,
   "metadata": {},
   "outputs": [],
   "source": [
    "# sample soil moisture image analysis\n",
    "soil_moist_image = ee.Image(soil_moist_collection_18.first())"
   ]
  },
  {
   "cell_type": "code",
   "execution_count": 17,
   "metadata": {},
   "outputs": [
    {
     "name": "stdout",
     "output_type": "stream",
     "text": [
      "Band names:  ['ssm', 'susm', 'smp', 'ssma', 'susma']\n",
      "Metadata properties:  ['system:time_start', 'system:footprint', 'system:time_end', 'system:version', 'system:id', 'ID', 'system:asset_size', 'system:index', 'system:bands', 'system:band_names']\n",
      "CLOUD_COVER:  None\n",
      "Timestamp:  {'type': 'Date', 'value': 1514764800000}\n",
      "{'type': 'Polygon', 'coordinates': [[[-180.0, -90.0], [180.0, -90.0], [180.0, 90.0], [-180.0, 90.0], [-180.0, -90.0]]]}\n"
     ]
    }
   ],
   "source": [
    "# Get information about the bands as a list.\n",
    "bandNames = soil_moist_image.bandNames();\n",
    "print('Band names: ', bandNames.getInfo()); \n",
    "\n",
    "#Get a list of all metadata properties.\n",
    "properties = soil_moist_image.propertyNames();\n",
    "print('Metadata properties: ', properties.getInfo()); \n",
    "\n",
    "#Get a specific metadata property.\n",
    "cloudiness = soil_moist_image.get('CLOUD_COVER');\n",
    "print('CLOUD_COVER: ', cloudiness.getInfo());\n",
    "\n",
    "#Get the timestamp and convert it to a date.\n",
    "date = ee.Date(soil_moist_image.get('system:time_start'));\n",
    "print('Timestamp: ', date.getInfo()); \n",
    " \n",
    "# Get dimensions of imagees\n",
    "print (soil_moist_image.geometry().bounds().getInfo());\n",
    "\n",
    "# print image metadata\n",
    "#pp.pprint(soil_moist_image.getInfo())"
   ]
  },
  {
   "cell_type": "code",
   "execution_count": 19,
   "metadata": {},
   "outputs": [
    {
     "data": {
      "text/html": [
       "<img src=\"https://earthengine.googleapis.com/api/thumb?thumbid=4f12ab08e57b8ef691d7c21388ceb1e8&token=e42d6f5936be949d412a0fffa7d22313\"/>"
      ],
      "text/plain": [
       "<IPython.core.display.Image object>"
      ]
     },
     "execution_count": 19,
     "metadata": {},
     "output_type": "execute_result"
    }
   ],
   "source": [
    "soil_moist_thumbnail_url = soil_moist_image.getThumbUrl({\n",
    "    'bands': 'ssm',\n",
    "    'min': 0.0,\n",
    "    'max': 28.0,\n",
    "})\n",
    "IPython.display.HTML('Thumbnail URL: <a href={0}>{0}</a>'.format(soil_moist_thumbnail_url))\n",
    "IPython.display.Image(url=soil_moist_thumbnail_url)"
   ]
  },
  {
   "cell_type": "code",
   "execution_count": 20,
   "metadata": {},
   "outputs": [
    {
     "data": {
      "application/vnd.jupyter.widget-view+json": {
       "model_id": "63ed63d20d26466f9ac612c84edc6181",
       "version_major": 2,
       "version_minor": 0
      },
      "text/plain": [
       "Map(basemap={'url': 'https://{s}.tile.openstreetmap.org/{z}/{x}/{y}.png', 'max_zoom': 19, 'attribution': 'Map …"
      ]
     },
     "metadata": {},
     "output_type": "display_data"
    }
   ],
   "source": [
    "soil_moist_map = ipyleaflet.Map(zoom=3, layout={'height':'400px'})\n",
    "soil_moist_tile_url = GetTileLayerUrl(soil_moist_image.visualize(min=0.0, max=28.0, gamma=1.5, bands= ['ssm']))\n",
    "soil_moist_map.add_layer(ipyleaflet.TileLayer(url=soil_moist_tile_url))\n",
    "soil_moist_map"
   ]
  },
  {
   "cell_type": "markdown",
   "metadata": {},
   "source": [
    "## Aggregate Precipitation and Soil Moisture over a Time Series"
   ]
  },
  {
   "cell_type": "code",
   "execution_count": 21,
   "metadata": {},
   "outputs": [],
   "source": [
    "from datetime import datetime\n",
    "from datetime import timedelta\n",
    "\n",
    "sum_monthly_precipitation = [];\n",
    "mean_monthly_soil_moisture = [];\n",
    "\n",
    "months_days = [31, 28, 31, 30, 31, 30, 31, 31, 30, 31, 30, 31]\n",
    "\n",
    "start_dt = '2018-01-01'\n",
    "finish_dt = '2018-01-31'\n",
    "\n",
    "for days in months_days:\n",
    "    gpm_current_month = gpm_collection_18.filterDate(start_dt, finish_dt)\n",
    "    soil_moist_current_month = soil_moist_collection_18.filterDate(start_dt, finish_dt)\n",
    "    \n",
    "    sum_monthly_precipitation.append(gpm_current_month.reduce(ee.Reducer.sum()));\n",
    "    mean_monthly_soil_moisture.append(soil_moist_current_month.reduce(ee.Reducer.mean()))\n",
    "    \n",
    "    start_dt = datetime.strptime(start_dt, '%Y-%m-%d')\n",
    "    finish_dt = datetime.strptime(finish_dt, '%Y-%m-%d')\n",
    "    start_dt = (start_dt + timedelta(days=months_days[(start_dt.month%12) -1])).strftime('%Y-%m-%d')\n",
    "    finish_dt = (finish_dt + timedelta(days=months_days[finish_dt.month%12])).strftime('%Y-%m-%d')"
   ]
  },
  {
   "cell_type": "code",
   "execution_count": 22,
   "metadata": {},
   "outputs": [],
   "source": [
    "sum_monthly_precipitation_collection = ee.ImageCollection.fromImages(sum_monthly_precipitation);\n",
    "mean_monthly_soil_moisture_collection = ee.ImageCollection.fromImages(mean_monthly_soil_moisture);"
   ]
  },
  {
   "cell_type": "code",
   "execution_count": 23,
   "metadata": {
    "scrolled": true
   },
   "outputs": [
    {
     "data": {
      "application/vnd.jupyter.widget-view+json": {
       "model_id": "dc570b212282456c9e969eddb9cc0ca1",
       "version_major": 2,
       "version_minor": 0
      },
      "text/plain": [
       "Map(basemap={'url': 'https://{s}.tile.openstreetmap.org/{z}/{x}/{y}.png', 'max_zoom': 19, 'attribution': 'Map …"
      ]
     },
     "metadata": {},
     "output_type": "display_data"
    }
   ],
   "source": [
    "month_precipitation_map = ipyleaflet.Map(zoom=2, layout={'height':'400px'})\n",
    "tile_url = GetTileLayerUrl(sum_monthly_precipitation_collection.first().visualize(min=1.0, max=9.0, gamma=1.5, bands= ['precipitationCal_sum']))\n",
    "month_precipitation_map.add_layer(ipyleaflet.TileLayer(url=tile_url))\n",
    "month_precipitation_map"
   ]
  },
  {
   "cell_type": "code",
   "execution_count": 24,
   "metadata": {},
   "outputs": [
    {
     "data": {
      "application/vnd.jupyter.widget-view+json": {
       "model_id": "4d5ddaa627234680a3e72e1a30b15cfb",
       "version_major": 2,
       "version_minor": 0
      },
      "text/plain": [
       "Map(basemap={'url': 'https://{s}.tile.openstreetmap.org/{z}/{x}/{y}.png', 'max_zoom': 19, 'attribution': 'Map …"
      ]
     },
     "metadata": {},
     "output_type": "display_data"
    }
   ],
   "source": [
    "month_soil_moist_map = ipyleaflet.Map(zoom=3, layout={'height':'400px'})\n",
    "tile_url = GetTileLayerUrl(mean_monthly_soil_moisture_collection.first().visualize(min=0.0, max=28.0, gamma=1.5, bands= ['ssm_mean']))\n",
    "month_soil_moist_map.add_layer(ipyleaflet.TileLayer(url=tile_url))\n",
    "month_soil_moist_map"
   ]
  },
  {
   "cell_type": "code",
   "execution_count": 25,
   "metadata": {},
   "outputs": [],
   "source": [
    "# sample point\n",
    "point = {'type':'Point', 'coordinates':[ -116.88629,36.56122]};\n",
    "\n",
    "precipitaion_info = sum_monthly_precipitation_collection.getRegion(point,500).getInfo()\n",
    "soil_moisture_info = mean_monthly_soil_moisture_collection.getRegion(point,500).getInfo()"
   ]
  },
  {
   "cell_type": "code",
   "execution_count": 26,
   "metadata": {},
   "outputs": [
    {
     "name": "stdout",
     "output_type": "stream",
     "text": [
      "['id', 'longitude', 'latitude', 'time', 'ssm_mean', 'susm_mean', 'smp_mean', 'ssma_mean', 'susma_mean']\n",
      "['id', 'longitude', 'latitude', 'time', 'HQobservationTime_sum', 'HQprecipSource_sum', 'HQprecipitation_sum', 'IRkalmanFilterWeight_sum', 'IRprecipitation_sum', 'precipitationCal_sum', 'precipitationUncal_sum', 'probabilityLiquidPrecipitation_sum', 'randomError_sum']\n"
     ]
    }
   ],
   "source": [
    "# column names and data for precipitation\n",
    "precipitaion_data_header = precipitaion_info[0]\n",
    "precipitaion_data = np.array(precipitaion_info[1:])\n",
    "\n",
    "# column names and data for soil moisture\n",
    "soil_moisture_data_header = soil_moisture_info[0]\n",
    "soil_moisture_data = np.array(soil_moisture_info[1:])\n",
    "\n",
    "print (soil_moisture_data_header)\n",
    "print (precipitaion_data_header)"
   ]
  },
  {
   "cell_type": "code",
   "execution_count": 27,
   "metadata": {},
   "outputs": [],
   "source": [
    "month_indices = np.arange(0, 12)"
   ]
  },
  {
   "cell_type": "code",
   "execution_count": 33,
   "metadata": {
    "scrolled": true
   },
   "outputs": [
    {
     "data": {
      "image/png": "[encoded data removed]",
      "text/plain": [
       "<Figure size 960x800 with 1 Axes>"
      ]
     },
     "metadata": {
      "needs_background": "light"
     },
     "output_type": "display_data"
    }
   ],
   "source": [
    "fig = figure(figsize=(12,10), dpi=80)\n",
    "\n",
    "# plot the soil moisture values\n",
    "ax1 = fig.add_subplot(211)\n",
    "ax1.plot(month_indices, soil_moisture_data[:,soil_moisture_data_header.index('ssm_mean')], \n",
    "         color=\"red\", label=\"ssm_mean\")\n",
    "ax1.plot(month_indices, soil_moisture_data[:,soil_moisture_data_header.index('susm_mean')], \n",
    "         color=\"magenta\",  label=\"susm_mean\")\n",
    "ax1.legend(loc='best')\n",
    "ax1.grid(True)"
   ]
  },
  {
   "cell_type": "code",
   "execution_count": 31,
   "metadata": {},
   "outputs": [
    {
     "data": {
      "image/png": "[encoded data removed]",
      "text/plain": [
       "<Figure size 960x800 with 1 Axes>"
      ]
     },
     "metadata": {
      "needs_background": "light"
     },
     "output_type": "display_data"
    }
   ],
   "source": [
    "fig2 = figure(figsize=(12,10), dpi=80)\n",
    "\n",
    "ax2 = fig2.add_subplot(212)\n",
    "ax2.plot(month_indices, precipitaion_data[:,precipitaion_data_header.index('precipitationCal_sum')], \n",
    "         color=\"green\", label=\"precipitationCal_sum\")\n",
    "ax2.plot(month_indices, precipitaion_data[:,precipitaion_data_header.index('IRprecipitation_sum')], \n",
    "         color=\"orange\",  label=\"IRprecipitation_sum\")\n",
    "\n",
    "ax2.legend(loc='best')\n",
    "ax2.grid(True)"
   ]
  },
  {
   "cell_type": "code",
   "execution_count": null,
   "metadata": {},
   "outputs": [],
   "source": []
  }
 ],
 "metadata": {
  "kernelspec": {
   "display_name": "Python 3",
   "language": "python",
   "name": "python3"
  },
  "language_info": {
   "codemirror_mode": {
    "name": "ipython",
    "version": 3
   },
   "file_extension": ".py",
   "mimetype": "text/x-python",
   "name": "python",
   "nbconvert_exporter": "python",
   "pygments_lexer": "ipython3",
   "version": "3.7.2"
  }
 },
 "nbformat": 4,
 "nbformat_minor": 2
}
